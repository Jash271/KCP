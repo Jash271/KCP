{
 "cells": [
  {
   "cell_type": "code",
   "execution_count": 9,
   "id": "10126371",
   "metadata": {},
   "outputs": [],
   "source": [
    "import pandas as pd\n",
    "import numpy as np\n",
    "import json"
   ]
  },
  {
   "cell_type": "code",
   "execution_count": 9,
   "id": "a496299e",
   "metadata": {},
   "outputs": [],
   "source": [
    "df = pd.read_csv(\"email.csv\")"
   ]
  },
  {
   "cell_type": "code",
   "execution_count": 10,
   "id": "b6c12774",
   "metadata": {},
   "outputs": [
    {
     "name": "stdout",
     "output_type": "stream",
     "text": [
      "180\n"
     ]
    }
   ],
   "source": [
    "print(len(df))"
   ]
  },
  {
   "cell_type": "code",
   "execution_count": 11,
   "id": "cda29f40",
   "metadata": {},
   "outputs": [
    {
     "data": {
      "text/html": [
       "<div>\n",
       "<style scoped>\n",
       "    .dataframe tbody tr th:only-of-type {\n",
       "        vertical-align: middle;\n",
       "    }\n",
       "\n",
       "    .dataframe tbody tr th {\n",
       "        vertical-align: top;\n",
       "    }\n",
       "\n",
       "    .dataframe thead th {\n",
       "        text-align: right;\n",
       "    }\n",
       "</style>\n",
       "<table border=\"1\" class=\"dataframe\">\n",
       "  <thead>\n",
       "    <tr style=\"text-align: right;\">\n",
       "      <th></th>\n",
       "      <th>Mail ID</th>\n",
       "      <th>Receiver</th>\n",
       "      <th>Subject</th>\n",
       "      <th>Mail_Body</th>\n",
       "      <th>Date</th>\n",
       "    </tr>\n",
       "  </thead>\n",
       "  <tbody>\n",
       "    <tr>\n",
       "      <th>0</th>\n",
       "      <td>18687eba84b5c8fb</td>\n",
       "      <td>['Jeet Dhaval Shah &lt;jeetds@uci.edu&gt;']</td>\n",
       "      <td>['Fwd: Thank you for your interest in Western ...</td>\n",
       "      <td>---------- Forwarded message ---------\\r\\nFrom...</td>\n",
       "      <td>['Sat, 25 Feb 2023 01:33:23 -0800']</td>\n",
       "    </tr>\n",
       "    <tr>\n",
       "      <th>1</th>\n",
       "      <td>18687ead200d9ff0</td>\n",
       "      <td>['Jeet Dhaval Shah &lt;jeetds@uci.edu&gt;']</td>\n",
       "      <td>['Fwd: Thank you for your interest in Lucid Mo...</td>\n",
       "      <td>---------- Forwarded message ---------\\r\\nFrom...</td>\n",
       "      <td>['Sat, 25 Feb 2023 01:32:28 -0800']</td>\n",
       "    </tr>\n",
       "    <tr>\n",
       "      <th>2</th>\n",
       "      <td>18687ea2fb0445aa</td>\n",
       "      <td>['Jeet Dhaval Shah &lt;jeetds@uci.edu&gt;']</td>\n",
       "      <td>['Fwd: Thank you for your application to Rivia...</td>\n",
       "      <td>---------- Forwarded message ---------\\r\\nFrom...</td>\n",
       "      <td>['Sat, 25 Feb 2023 01:31:46 -0800']</td>\n",
       "    </tr>\n",
       "    <tr>\n",
       "      <th>3</th>\n",
       "      <td>18687e9b6dde2b28</td>\n",
       "      <td>['Jeet Dhaval Shah &lt;jeetds@uci.edu&gt;']</td>\n",
       "      <td>['Fwd: Important information about your applic...</td>\n",
       "      <td>---------- Forwarded message ---------\\r\\nFrom...</td>\n",
       "      <td>['Sat, 25 Feb 2023 01:31:16 -0800']</td>\n",
       "    </tr>\n",
       "    <tr>\n",
       "      <th>4</th>\n",
       "      <td>18687e8fa78d1e55</td>\n",
       "      <td>['Jeet Dhaval Shah &lt;jeetds@uci.edu&gt;']</td>\n",
       "      <td>['Fwd: Thank you for your interest in IBM']</td>\n",
       "      <td>---------- Forwarded message ---------\\r\\nFrom...</td>\n",
       "      <td>['Sat, 25 Feb 2023 01:30:27 -0800']</td>\n",
       "    </tr>\n",
       "  </tbody>\n",
       "</table>\n",
       "</div>"
      ],
      "text/plain": [
       "            Mail ID                               Receiver  \\\n",
       "0  18687eba84b5c8fb  ['Jeet Dhaval Shah <jeetds@uci.edu>']   \n",
       "1  18687ead200d9ff0  ['Jeet Dhaval Shah <jeetds@uci.edu>']   \n",
       "2  18687ea2fb0445aa  ['Jeet Dhaval Shah <jeetds@uci.edu>']   \n",
       "3  18687e9b6dde2b28  ['Jeet Dhaval Shah <jeetds@uci.edu>']   \n",
       "4  18687e8fa78d1e55  ['Jeet Dhaval Shah <jeetds@uci.edu>']   \n",
       "\n",
       "                                             Subject  \\\n",
       "0  ['Fwd: Thank you for your interest in Western ...   \n",
       "1  ['Fwd: Thank you for your interest in Lucid Mo...   \n",
       "2  ['Fwd: Thank you for your application to Rivia...   \n",
       "3  ['Fwd: Important information about your applic...   \n",
       "4        ['Fwd: Thank you for your interest in IBM']   \n",
       "\n",
       "                                           Mail_Body  \\\n",
       "0  ---------- Forwarded message ---------\\r\\nFrom...   \n",
       "1  ---------- Forwarded message ---------\\r\\nFrom...   \n",
       "2  ---------- Forwarded message ---------\\r\\nFrom...   \n",
       "3  ---------- Forwarded message ---------\\r\\nFrom...   \n",
       "4  ---------- Forwarded message ---------\\r\\nFrom...   \n",
       "\n",
       "                                  Date  \n",
       "0  ['Sat, 25 Feb 2023 01:33:23 -0800']  \n",
       "1  ['Sat, 25 Feb 2023 01:32:28 -0800']  \n",
       "2  ['Sat, 25 Feb 2023 01:31:46 -0800']  \n",
       "3  ['Sat, 25 Feb 2023 01:31:16 -0800']  \n",
       "4  ['Sat, 25 Feb 2023 01:30:27 -0800']  "
      ]
     },
     "execution_count": 11,
     "metadata": {},
     "output_type": "execute_result"
    }
   ],
   "source": [
    "df.head()\n"
   ]
  },
  {
   "cell_type": "code",
   "execution_count": 13,
   "id": "313b4f5b",
   "metadata": {},
   "outputs": [],
   "source": [
    "mails = df['Mail_Body']"
   ]
  },
  {
   "cell_type": "code",
   "execution_count": 15,
   "id": "0f7da78f",
   "metadata": {},
   "outputs": [],
   "source": [
    "mails_0 = mails[0]"
   ]
  },
  {
   "cell_type": "code",
   "execution_count": 22,
   "id": "9a0feff1",
   "metadata": {},
   "outputs": [],
   "source": [
    "tst = mails_0.split('\\r\\n')"
   ]
  },
  {
   "cell_type": "code",
   "execution_count": 28,
   "id": "91f89565",
   "metadata": {},
   "outputs": [],
   "source": [
    "mails0 = tst[5:]"
   ]
  },
  {
   "cell_type": "code",
   "execution_count": 30,
   "id": "8778dd96",
   "metadata": {},
   "outputs": [
    {
     "data": {
      "text/plain": [
       "'\\nDear Jeet Dhaval, \\nThank you for your interest in the Intern, Electrical and Embedded Firmware Engineering (Summer 2023) position at Western Digital. While your skills and background are impressive, we have decided to proceed with other applicants who more closely fit our needs at this time. \\nWe appreciate your time and effort in submitting an application. We encourage you to apply for other positions at Western Digital in the future. \\nAgain, thank you for your interest in a position with Western Digital and we wish you success in your job search and future career. \\nSincerely, Western Digital Team Sent via SmartRecruiters <https://urldefense.com/v3/__https://eulink.smartrecruiters.com/c/eJx1kMtqwzAURL8m2tnoLXmhRUhcmi4SKN4XPa4SlfiBJDfk72vabQuzGzhzGDBEKilERwRFwXCsrUB-Hhc7PU_BSCwDVk53vCPACGYiRmI7h5KhmDJMiSRcUEba6L2yShEureA-wo7jMtpcM_i8pgq5tBsWwWjTfXguYN77t_4wnC7nj-Hycdifj6fjfujR3dxqXcqO7Xf0Zcvj8Wj_AG3Nkuew-vqLfE2lzvlHmQFwRqMGzZnmimGghGOKsvkEqKFsZqtPLYQVzTld09RPXynP0whTNTHbCdX_5EYoxV5hWxEychfBNSqK2HDXuUYLqRqwTAjtQBNp0c0o5X0MgVnlQHAnlWY6dtDZgCXZbv0GQfZ3BQ__;!!CzAuKJ42GuquVTTmVmPViYEvSg!PuXkA3m5Pu06hINPW81jd7bmsAOVT8YwKc3eWY7SSs_JCzjuZu_YIA2RQ5oaOwBjQV9KAYvxR3Eik4aVn0Cku3ytgJ6K$>, your hiring success platform. Learn more about our company and policies here <https://urldefense.com/v3/__https://eulink.smartrecruiters.com/c/eJx1UMtqAjEU_RqzG8k7mUUWopbahUJxX26SG02ZF5mo-PedttsWDpzFgfNCx7TRSrVMcRKdpBYUCWM_wfA8RKepjtR428qWoWBUqJQYtJ5kxykXlDPNpOKCrVMIBoxhUoOSIeFK0rmHUguGcssVy7xebAn2kLvzc0L3vn_bb8-H0_HjfPrYbo67w25z3pPOXWud5pXYrPjLgsfjsf7DaFE6vEC3cIAh5ggVm6nkO4RnM41dDs_frNc817H8bBGIUvBk0UphpREUOZOUk-I-EWucl8q3kNcYb2Qs-ZKH_XDPZRx6HKpLBQZS_2vd4zzDBZcUpZP0CX1jkkqN9K1vrNKmQRBKWY-WaSBX55OPTGuuvi9VseXWoODQRh4EaOa_AEMaf60__;!!CzAuKJ42GuquVTTmVmPViYEvSg!PuXkA3m5Pu06hINPW81jd7bmsAOVT8YwKc3eWY7SSs_JCzjuZu_YIA2RQ5oaOwBjQV9KAYvxR3Eik4aVn0CkuxsMzQnO$>.'"
      ]
     },
     "execution_count": 30,
     "metadata": {},
     "output_type": "execute_result"
    }
   ],
   "source": [
    "\" \".join(mails0)"
   ]
  },
  {
   "cell_type": "code",
   "execution_count": 10,
   "id": "20c0878a",
   "metadata": {},
   "outputs": [
    {
     "name": "stdout",
     "output_type": "stream",
     "text": [
      "Extra data: line 1 column 7004 (char 7003)\n"
     ]
    }
   ],
   "source": [
    "jobs = pd.DataFrame()\n",
    "path = \"data.ldjson\"\n",
    "with open(path,'r',encoding='utf8') as f:\n",
    "    for i,line in enumerate(f):\n",
    "        try:\n",
    "            data  = json.loads(line.strip('\\n'))\n",
    "            temp = pd.DataFrame([data],columns = ['job_title','job_description'])\n",
    "            jobs = pd.concat([jobs,temp],axis=0)\n",
    "        except Exception as e:\n",
    "            print(e)\n",
    "        \n",
    "    \n",
    "    \n",
    "    \n",
    "    "
   ]
  },
  {
   "cell_type": "code",
   "execution_count": 11,
   "id": "ad05b2f0",
   "metadata": {},
   "outputs": [
    {
     "data": {
      "text/html": [
       "<div>\n",
       "<style scoped>\n",
       "    .dataframe tbody tr th:only-of-type {\n",
       "        vertical-align: middle;\n",
       "    }\n",
       "\n",
       "    .dataframe tbody tr th {\n",
       "        vertical-align: top;\n",
       "    }\n",
       "\n",
       "    .dataframe thead th {\n",
       "        text-align: right;\n",
       "    }\n",
       "</style>\n",
       "<table border=\"1\" class=\"dataframe\">\n",
       "  <thead>\n",
       "    <tr style=\"text-align: right;\">\n",
       "      <th></th>\n",
       "      <th>job_title</th>\n",
       "      <th>job_description</th>\n",
       "    </tr>\n",
       "  </thead>\n",
       "  <tbody>\n",
       "    <tr>\n",
       "      <th>0</th>\n",
       "      <td>Asphalt/Concrete Senior Project Manager</td>\n",
       "      <td>SR. PROJECT MANAGER WANTED!!! My client is a M...</td>\n",
       "    </tr>\n",
       "    <tr>\n",
       "      <th>0</th>\n",
       "      <td>Amazon Warehouse Team - Full Time</td>\n",
       "      <td>Shifts: Overnight, Early Morning, Day, Evening...</td>\n",
       "    </tr>\n",
       "    <tr>\n",
       "      <th>0</th>\n",
       "      <td>Amazon Warehouse Associate - Morning Shifts Av...</td>\n",
       "      <td>Shifts: Early Morning, Day, Evening Location: ...</td>\n",
       "    </tr>\n",
       "    <tr>\n",
       "      <th>0</th>\n",
       "      <td>Assembly Electrical</td>\n",
       "      <td>Do you pride yourself on attention to detail a...</td>\n",
       "    </tr>\n",
       "    <tr>\n",
       "      <th>0</th>\n",
       "      <td>Graphics Designer</td>\n",
       "      <td>In your role as Graphics Designer for Alaska C...</td>\n",
       "    </tr>\n",
       "    <tr>\n",
       "      <th>...</th>\n",
       "      <td>...</td>\n",
       "      <td>...</td>\n",
       "    </tr>\n",
       "    <tr>\n",
       "      <th>0</th>\n",
       "      <td>Part Time OR Temporary Warehouse Associate</td>\n",
       "      <td>Capstone Logistics, LLC is part of The Transpo...</td>\n",
       "    </tr>\n",
       "    <tr>\n",
       "      <th>0</th>\n",
       "      <td>Patient Access Specialist</td>\n",
       "      <td>Ref ID: 00100 [ Phone number blocked ] Classif...</td>\n",
       "    </tr>\n",
       "    <tr>\n",
       "      <th>0</th>\n",
       "      <td>Registered Nurse - ICU - 13 Week Contract</td>\n",
       "      <td>We’re hiring a highly skilled Registered Nurse...</td>\n",
       "    </tr>\n",
       "    <tr>\n",
       "      <th>0</th>\n",
       "      <td>Amazon Prime Now Shopper - Earn $15/hr or more...</td>\n",
       "      <td>sFulfillment Centers – Work inside an Amazon w...</td>\n",
       "    </tr>\n",
       "    <tr>\n",
       "      <th>0</th>\n",
       "      <td>Warehouse Operator - Earn $15/hr or more</td>\n",
       "      <td>?? Amazon is hiring entry-level roles near you...</td>\n",
       "    </tr>\n",
       "  </tbody>\n",
       "</table>\n",
       "<p>29982 rows × 2 columns</p>\n",
       "</div>"
      ],
      "text/plain": [
       "                                            job_title  \\\n",
       "0             Asphalt/Concrete Senior Project Manager   \n",
       "0                   Amazon Warehouse Team - Full Time   \n",
       "0   Amazon Warehouse Associate - Morning Shifts Av...   \n",
       "0                                 Assembly Electrical   \n",
       "0                                   Graphics Designer   \n",
       "..                                                ...   \n",
       "0          Part Time OR Temporary Warehouse Associate   \n",
       "0                           Patient Access Specialist   \n",
       "0           Registered Nurse - ICU - 13 Week Contract   \n",
       "0   Amazon Prime Now Shopper - Earn $15/hr or more...   \n",
       "0            Warehouse Operator - Earn $15/hr or more   \n",
       "\n",
       "                                      job_description  \n",
       "0   SR. PROJECT MANAGER WANTED!!! My client is a M...  \n",
       "0   Shifts: Overnight, Early Morning, Day, Evening...  \n",
       "0   Shifts: Early Morning, Day, Evening Location: ...  \n",
       "0   Do you pride yourself on attention to detail a...  \n",
       "0   In your role as Graphics Designer for Alaska C...  \n",
       "..                                                ...  \n",
       "0   Capstone Logistics, LLC is part of The Transpo...  \n",
       "0   Ref ID: 00100 [ Phone number blocked ] Classif...  \n",
       "0   We’re hiring a highly skilled Registered Nurse...  \n",
       "0   sFulfillment Centers – Work inside an Amazon w...  \n",
       "0   ?? Amazon is hiring entry-level roles near you...  \n",
       "\n",
       "[29982 rows x 2 columns]"
      ]
     },
     "execution_count": 11,
     "metadata": {},
     "output_type": "execute_result"
    }
   ],
   "source": [
    "jobs"
   ]
  },
  {
   "cell_type": "code",
   "execution_count": 12,
   "id": "433cbe3d",
   "metadata": {},
   "outputs": [],
   "source": [
    "jobs['Type'] = 'Position'"
   ]
  },
  {
   "cell_type": "code",
   "execution_count": 13,
   "id": "40c9b713",
   "metadata": {},
   "outputs": [],
   "source": [
    "jobs.rename(columns={\"job_title\":\"Text\"},inplace=True)"
   ]
  },
  {
   "cell_type": "code",
   "execution_count": 14,
   "id": "321281f9",
   "metadata": {},
   "outputs": [
    {
     "data": {
      "text/html": [
       "<div>\n",
       "<style scoped>\n",
       "    .dataframe tbody tr th:only-of-type {\n",
       "        vertical-align: middle;\n",
       "    }\n",
       "\n",
       "    .dataframe tbody tr th {\n",
       "        vertical-align: top;\n",
       "    }\n",
       "\n",
       "    .dataframe thead th {\n",
       "        text-align: right;\n",
       "    }\n",
       "</style>\n",
       "<table border=\"1\" class=\"dataframe\">\n",
       "  <thead>\n",
       "    <tr style=\"text-align: right;\">\n",
       "      <th></th>\n",
       "      <th>Text</th>\n",
       "      <th>job_description</th>\n",
       "      <th>Type</th>\n",
       "    </tr>\n",
       "  </thead>\n",
       "  <tbody>\n",
       "    <tr>\n",
       "      <th>0</th>\n",
       "      <td>Asphalt/Concrete Senior Project Manager</td>\n",
       "      <td>SR. PROJECT MANAGER WANTED!!! My client is a M...</td>\n",
       "      <td>Position</td>\n",
       "    </tr>\n",
       "    <tr>\n",
       "      <th>0</th>\n",
       "      <td>Amazon Warehouse Team - Full Time</td>\n",
       "      <td>Shifts: Overnight, Early Morning, Day, Evening...</td>\n",
       "      <td>Position</td>\n",
       "    </tr>\n",
       "    <tr>\n",
       "      <th>0</th>\n",
       "      <td>Amazon Warehouse Associate - Morning Shifts Av...</td>\n",
       "      <td>Shifts: Early Morning, Day, Evening Location: ...</td>\n",
       "      <td>Position</td>\n",
       "    </tr>\n",
       "    <tr>\n",
       "      <th>0</th>\n",
       "      <td>Assembly Electrical</td>\n",
       "      <td>Do you pride yourself on attention to detail a...</td>\n",
       "      <td>Position</td>\n",
       "    </tr>\n",
       "    <tr>\n",
       "      <th>0</th>\n",
       "      <td>Graphics Designer</td>\n",
       "      <td>In your role as Graphics Designer for Alaska C...</td>\n",
       "      <td>Position</td>\n",
       "    </tr>\n",
       "  </tbody>\n",
       "</table>\n",
       "</div>"
      ],
      "text/plain": [
       "                                                Text  \\\n",
       "0            Asphalt/Concrete Senior Project Manager   \n",
       "0                  Amazon Warehouse Team - Full Time   \n",
       "0  Amazon Warehouse Associate - Morning Shifts Av...   \n",
       "0                                Assembly Electrical   \n",
       "0                                  Graphics Designer   \n",
       "\n",
       "                                     job_description      Type  \n",
       "0  SR. PROJECT MANAGER WANTED!!! My client is a M...  Position  \n",
       "0  Shifts: Overnight, Early Morning, Day, Evening...  Position  \n",
       "0  Shifts: Early Morning, Day, Evening Location: ...  Position  \n",
       "0  Do you pride yourself on attention to detail a...  Position  \n",
       "0  In your role as Graphics Designer for Alaska C...  Position  "
      ]
     },
     "execution_count": 14,
     "metadata": {},
     "output_type": "execute_result"
    }
   ],
   "source": [
    "jobs.head()"
   ]
  },
  {
   "cell_type": "code",
   "execution_count": 20,
   "id": "db4f776c",
   "metadata": {},
   "outputs": [
    {
     "name": "stdout",
     "output_type": "stream",
     "text": [
      "4000\n"
     ]
    }
   ],
   "source": [
    "entity = jobs[['Text','Type']][:4000]\n",
    "print(len(entity))"
   ]
  },
  {
   "cell_type": "code",
   "execution_count": 21,
   "id": "61b974dc",
   "metadata": {},
   "outputs": [],
   "source": [
    "entity.head()\n",
    "entity.to_csv('entity.csv')"
   ]
  },
  {
   "cell_type": "code",
   "execution_count": 23,
   "id": "690f7090",
   "metadata": {},
   "outputs": [],
   "source": [
    "for i in range(4000):\n",
    "    text_data = jobs.iloc[i]['job_description']\n",
    "    text_data = text_data.split(\".\")\n",
    "    text_data = \"\\n\".join(text_data)\n",
    "    with open(f'Dataset3/{i}.txt','w') as f:\n",
    "        f.write(text_data)\n"
   ]
  },
  {
   "cell_type": "code",
   "execution_count": 19,
   "id": "c1074a9c",
   "metadata": {},
   "outputs": [],
   "source": [
    "import os\n",
    "\n",
    "dir_name = \".\"\n",
    "test = os.listdir(dir_name)\n",
    "\n",
    "for item in test:\n",
    "    if item.endswith(\".txt\"):\n",
    "        os.remove(os.path.join(dir_name, item))"
   ]
  },
  {
   "cell_type": "code",
   "execution_count": 1,
   "id": "e7129951",
   "metadata": {},
   "outputs": [],
   "source": [
    "import boto3"
   ]
  },
  {
   "cell_type": "code",
   "execution_count": 3,
   "id": "1a4a65ce",
   "metadata": {},
   "outputs": [],
   "source": [
    "s3 = boto3.resource('s3', endpoint_url=\"https://entityrecog.s3-accelerate.amazonaws.com\")"
   ]
  },
  {
   "cell_type": "code",
   "execution_count": 6,
   "id": "c75271fe",
   "metadata": {},
   "outputs": [
    {
     "ename": "AttributeError",
     "evalue": "'s3.ServiceResource' object has no attribute 'upload_file'",
     "output_type": "error",
     "traceback": [
      "\u001b[0;31m---------------------------------------------------------------------------\u001b[0m",
      "\u001b[0;31mAttributeError\u001b[0m                            Traceback (most recent call last)",
      "\u001b[0;32m/var/folders/hk/k4mxyhtj11b_3pcc0x78wlc40000gn/T/ipykernel_1271/1999056196.py\u001b[0m in \u001b[0;36m<module>\u001b[0;34m\u001b[0m\n\u001b[0;32m----> 1\u001b[0;31m \u001b[0ms3\u001b[0m\u001b[0;34m.\u001b[0m\u001b[0mupload_file\u001b[0m\u001b[0;34m(\u001b[0m\u001b[0;34m'Dataset'\u001b[0m\u001b[0;34m)\u001b[0m\u001b[0;34m\u001b[0m\u001b[0;34m\u001b[0m\u001b[0m\n\u001b[0m",
      "\u001b[0;31mAttributeError\u001b[0m: 's3.ServiceResource' object has no attribute 'upload_file'"
     ]
    }
   ],
   "source": [
    "s3.upload_file('Dataset')"
   ]
  },
  {
   "cell_type": "code",
   "execution_count": null,
   "id": "d96984e0",
   "metadata": {},
   "outputs": [],
   "source": []
  }
 ],
 "metadata": {
  "kernelspec": {
   "display_name": "Python 3.10.0 64-bit",
   "language": "python",
   "name": "python3"
  },
  "language_info": {
   "codemirror_mode": {
    "name": "ipython",
    "version": 3
   },
   "file_extension": ".py",
   "mimetype": "text/x-python",
   "name": "python",
   "nbconvert_exporter": "python",
   "pygments_lexer": "ipython3",
   "version": "3.10.0"
  },
  "vscode": {
   "interpreter": {
    "hash": "aee8b7b246df8f9039afb4144a1f6fd8d2ca17a180786b69acc140d282b71a49"
   }
  }
 },
 "nbformat": 4,
 "nbformat_minor": 5
}
